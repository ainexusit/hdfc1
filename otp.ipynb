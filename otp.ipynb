{
 "cells": [
  {
   "cell_type": "code",
   "execution_count": 18,
   "id": "5f570eee-ee96-43a6-8ab2-6f128623c634",
   "metadata": {},
   "outputs": [
    {
     "name": "stdout",
     "output_type": "stream",
     "text": [
      "Generated OTP: 416949\n"
     ]
    }
   ],
   "source": [
    "import random\n",
    "\n",
    "def generate_6_digit_otp():\n",
    "  \"\"\"Generates a random 6-digit OTP.\"\"\"\n",
    "  return random.randint(100000, 999999)\n",
    "\n",
    "# Example usage:\n",
    "otp = generate_6_digit_otp()\n",
    "print(f\"Generated OTP: {otp}\")\n"
   ]
  },
  {
   "cell_type": "code",
   "execution_count": 19,
   "id": "e7ca52e9-6476-4f05-bc37-4299e8114caa",
   "metadata": {},
   "outputs": [],
   "source": [
    "event = {'Records': [{'eventVersion': '2.1', 'eventSource': 'aws:s3', 'awsRegion': 'ap-south-1', 'eventTime': '2025-08-20T02:12:40.771Z', 'eventName': 'ObjectCreated:Put', 'userIdentity': {'principalId': 'ANZXRFTSKJKIV'}, 'requestParameters': {'sourceIPAddress': '117.99.247.127'}, 'responseElements': {'x-amz-request-id': '5WP4HT2PDHFY846M', 'x-amz-id-2': 'tJQdVJUaF8xTNKPO39x2A3KogCMkONFsUUok/PizdqM0kRjXogBDJAZswEVRiQa6xX9xl1mlHnHZIhgRU6WDmkjX0oxjzlx5tjwWJ9SNblA='}, 's3': {'s3SchemaVersion': '1.0', 'configurationId': '748b30c7-66f4-4056-9cbc-98d63a8479b7', 'bucket': {'name': 's3-input-demo-online6', 'ownerIdentity': {'principalId': 'ANZXRFTSKJKIV'}, 'arn': 'arn:aws:s3:::s3-input-demo-online6'}, 'object': {'key': 'emp.csv', 'size': 62, 'eTag': 'e45d58d77b74f2c1ca536de805abaa38', 'sequencer': '0068A52F18BD8BC8A8'}}}]}\n"
   ]
  },
  {
   "cell_type": "code",
   "execution_count": 20,
   "id": "e8589e05-bd85-437f-b0af-31bf2d59fcb2",
   "metadata": {},
   "outputs": [
    {
     "data": {
      "text/plain": [
       "{'Records': [{'eventVersion': '2.1',\n",
       "   'eventSource': 'aws:s3',\n",
       "   'awsRegion': 'ap-south-1',\n",
       "   'eventTime': '2025-08-20T02:12:40.771Z',\n",
       "   'eventName': 'ObjectCreated:Put',\n",
       "   'userIdentity': {'principalId': 'ANZXRFTSKJKIV'},\n",
       "   'requestParameters': {'sourceIPAddress': '117.99.247.127'},\n",
       "   'responseElements': {'x-amz-request-id': '5WP4HT2PDHFY846M',\n",
       "    'x-amz-id-2': 'tJQdVJUaF8xTNKPO39x2A3KogCMkONFsUUok/PizdqM0kRjXogBDJAZswEVRiQa6xX9xl1mlHnHZIhgRU6WDmkjX0oxjzlx5tjwWJ9SNblA='},\n",
       "   's3': {'s3SchemaVersion': '1.0',\n",
       "    'configurationId': '748b30c7-66f4-4056-9cbc-98d63a8479b7',\n",
       "    'bucket': {'name': 's3-input-demo-online6',\n",
       "     'ownerIdentity': {'principalId': 'ANZXRFTSKJKIV'},\n",
       "     'arn': 'arn:aws:s3:::s3-input-demo-online6'},\n",
       "    'object': {'key': 'emp.csv',\n",
       "     'size': 62,\n",
       "     'eTag': 'e45d58d77b74f2c1ca536de805abaa38',\n",
       "     'sequencer': '0068A52F18BD8BC8A8'}}}]}"
      ]
     },
     "execution_count": 20,
     "metadata": {},
     "output_type": "execute_result"
    }
   ],
   "source": [
    "event"
   ]
  },
  {
   "cell_type": "code",
   "execution_count": null,
   "id": "2bcb7480-63e4-4b75-a391-405c97179151",
   "metadata": {},
   "outputs": [],
   "source": []
  }
 ],
 "metadata": {
  "kernelspec": {
   "display_name": "Python 3 (ipykernel)",
   "language": "python",
   "name": "python3"
  },
  "language_info": {
   "codemirror_mode": {
    "name": "ipython",
    "version": 3
   },
   "file_extension": ".py",
   "mimetype": "text/x-python",
   "name": "python",
   "nbconvert_exporter": "python",
   "pygments_lexer": "ipython3",
   "version": "3.12.7"
  }
 },
 "nbformat": 4,
 "nbformat_minor": 5
}
